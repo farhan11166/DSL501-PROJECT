{
 "cells": [
  {
   "cell_type": "code",
   "execution_count": null,
   "id": "328e9f85",
   "metadata": {},
   "outputs": [],
   "source": [
    "import pandas as pd\n",
    "import json\n",
    "import ast\n",
    "import re\n",
    "\n",
    "def clean_lmsys_dataframe(df, csv_path=\"\", save_json=True):\n",
    "    \"\"\"\n",
    "    Cleans an LMSYS dataframe by:\n",
    "      - Extracting and parsing JSON-like blocks from 'conversation' and 'openai_moderation' columns\n",
    "      - Removing unnecessary columns\n",
    "      - Saving the cleaned DataFrame to CSV (and optional JSON)\n",
    "\n",
    "    Args:\n",
    "        df (pd.DataFrame): Original LMSYS dataframe\n",
    "        csv_path (str): Output path for cleaned CSV\n",
    "        save_json (bool): Whether to save extracted JSON data separately\n",
    "\n",
    "    Returns:\n",
    "        pd.DataFrame: Cleaned dataframe\n",
    "    \"\"\"\n",
    "\n",
    "    # ---------- Helper functions ----------\n",
    "    def extract_brace_blocks(text):\n",
    "        \"\"\"Extract top-level {...} blocks from a string.\"\"\"\n",
    "        results = []\n",
    "        stack = []\n",
    "        start = None\n",
    "        if not isinstance(text, str):\n",
    "            return results\n",
    "        for i, ch in enumerate(text):\n",
    "            if ch == '{':\n",
    "                if not stack:\n",
    "                    start = i\n",
    "                stack.append(ch)\n",
    "            elif ch == '}':\n",
    "                if stack:\n",
    "                    stack.pop()\n",
    "                    if not stack and start is not None:\n",
    "                        results.append(text[start:i+1])\n",
    "                        start = None\n",
    "        return results\n",
    "\n",
    "    def safe_block_to_dict(s):\n",
    "        \"\"\"Convert a single JSON-like string block into a dict.\"\"\"\n",
    "        s = s.strip().replace(\"\\n\", \" \")\n",
    "        s = re.sub(r\"(?<=\\{|,)\\s*'([^']+)'\\s*:\", r'\"\\1\":', s)\n",
    "        s = re.sub(r\":\\s*'([^']+)'(?=,|\\})\", r': \"\\1\"', s)\n",
    "        try:\n",
    "            return json.loads(s)\n",
    "        except Exception:\n",
    "            try:\n",
    "                return ast.literal_eval(s)\n",
    "            except Exception:\n",
    "                return None\n",
    "\n",
    "    def clean_list_of_malformed_strings(lst):\n",
    "        \"\"\"Clean a list of possibly malformed strings into parsed dicts.\"\"\"\n",
    "        cleaned = []\n",
    "        for s in lst if isinstance(lst, list) else [lst]:\n",
    "            if not isinstance(s, str):\n",
    "                continue\n",
    "            blocks = extract_brace_blocks(s)\n",
    "            for b in blocks:\n",
    "                d = safe_block_to_dict(b)\n",
    "                if d:\n",
    "                    cleaned.append(d)\n",
    "        return cleaned\n",
    "\n",
    "    # ---------- Clean conversation column ----------\n",
    "    df[\"conversation_cleaned\"] = df[\"conversation\"].apply(clean_list_of_malformed_strings)\n",
    "\n",
    "    # ---------- Clean openai_moderation column ----------\n",
    "    df[\"moderation_cleaned\"] = df[\"openai_moderation\"].apply(clean_list_of_malformed_strings)\n",
    "\n",
    "    # ---------- Replace old columns ----------\n",
    "    df[\"conversation\"] = df[\"conversation_cleaned\"]\n",
    "    df[\"openai_moderation\"] = df[\"moderation_cleaned\"]\n",
    "    df.drop(columns=[\"conversation_cleaned\", \"moderation_cleaned\"], inplace=True, errors=\"ignore\")\n",
    "    cols_to_drop = [\n",
    "        \"conversation_id\", \"moderation_top2\", \"language\",\n",
    "        \"model\", \"conversation_top2\", \"turn\", \"moderation\"\n",
    "    ]\n",
    "    df.drop(columns=[c for c in cols_to_drop if c in df.columns], inplace=True)\n",
    "\n",
    "    # ---------- Save outputs ----------\n",
    "    df.to_csv(csv_path, index=False)\n",
    "\n",
    "    if save_json:\n",
    "        with open(\"cleaned_conversations_final.json\", \"w\") as f:\n",
    "            json.dump(df[\"conversation\"].to_list(), f, indent=2)\n",
    "        with open(\"openai_moderation_cleaned.json\", \"w\") as f:\n",
    "            json.dump(df[\"openai_moderation\"].to_list(), f, indent=2)\n",
    "\n",
    "    print(f\"✅ Cleaning complete. Saved to '{csv_path}'\")\n",
    "    return df\n"
   ]
  },
  {
   "cell_type": "code",
   "execution_count": 3,
   "id": "6daeacdf",
   "metadata": {},
   "outputs": [
    {
     "name": "stdout",
     "output_type": "stream",
     "text": [
      "✅ Cleaning complete. Saved to 'dataset/splits/lmsys_chat_train_part_1.csv'\n",
      "✅ Cleaning complete. Saved to 'dataset/splits/lmsys_chat_train_part_2.csv'\n",
      "✅ Cleaning complete. Saved to 'dataset/splits/lmsys_chat_train_part_3.csv'\n",
      "✅ Cleaning complete. Saved to 'dataset/splits/lmsys_chat_train_part_4.csv'\n"
     ]
    },
    {
     "name": "stderr",
     "output_type": "stream",
     "text": [
      "<unknown>:1: SyntaxWarning: invalid hexadecimal literal\n",
      "<unknown>:1: SyntaxWarning: invalid decimal literal\n",
      "<unknown>:1: SyntaxWarning: invalid decimal literal\n"
     ]
    },
    {
     "name": "stdout",
     "output_type": "stream",
     "text": [
      "✅ Cleaning complete. Saved to 'dataset/splits/lmsys_chat_train_part_5.csv'\n",
      "✅ Cleaning complete. Saved to 'dataset/splits/lmsys_chat_train_part_6.csv'\n",
      "✅ Cleaning complete. Saved to 'dataset/splits/lmsys_chat_train_part_7.csv'\n"
     ]
    },
    {
     "name": "stderr",
     "output_type": "stream",
     "text": [
      "<unknown>:1: SyntaxWarning: invalid decimal literal\n",
      "<unknown>:1: SyntaxWarning: invalid decimal literal\n",
      "<unknown>:1: SyntaxWarning: invalid decimal literal\n",
      "<unknown>:1: SyntaxWarning: invalid decimal literal\n"
     ]
    },
    {
     "name": "stdout",
     "output_type": "stream",
     "text": [
      "✅ Cleaning complete. Saved to 'dataset/splits/lmsys_chat_train_part_8.csv'\n",
      "✅ Cleaning complete. Saved to 'dataset/splits/lmsys_chat_train_part_9.csv'\n",
      "✅ Cleaning complete. Saved to 'dataset/splits/lmsys_chat_train_part_10.csv'\n",
      "✅ Cleaning complete. Saved to 'dataset/splits/lmsys_chat_train_part_11.csv'\n",
      "✅ Cleaning complete. Saved to 'dataset/splits/lmsys_chat_train_part_12.csv'\n"
     ]
    },
    {
     "name": "stderr",
     "output_type": "stream",
     "text": [
      "<unknown>:1: SyntaxWarning: invalid decimal literal\n",
      "<unknown>:1: SyntaxWarning: invalid decimal literal\n"
     ]
    },
    {
     "name": "stdout",
     "output_type": "stream",
     "text": [
      "✅ Cleaning complete. Saved to 'dataset/splits/lmsys_chat_train_part_13.csv'\n"
     ]
    },
    {
     "name": "stderr",
     "output_type": "stream",
     "text": [
      "<unknown>:1: SyntaxWarning: invalid decimal literal\n"
     ]
    },
    {
     "name": "stdout",
     "output_type": "stream",
     "text": [
      "✅ Cleaning complete. Saved to 'dataset/splits/lmsys_chat_train_part_14.csv'\n"
     ]
    },
    {
     "name": "stderr",
     "output_type": "stream",
     "text": [
      "<unknown>:1: SyntaxWarning: invalid decimal literal\n",
      "<unknown>:1: SyntaxWarning: invalid decimal literal\n"
     ]
    },
    {
     "name": "stdout",
     "output_type": "stream",
     "text": [
      "✅ Cleaning complete. Saved to 'dataset/splits/lmsys_chat_train_part_15.csv'\n"
     ]
    },
    {
     "name": "stderr",
     "output_type": "stream",
     "text": [
      "<unknown>:1: SyntaxWarning: invalid decimal literal\n"
     ]
    },
    {
     "name": "stdout",
     "output_type": "stream",
     "text": [
      "✅ Cleaning complete. Saved to 'dataset/splits/lmsys_chat_train_part_16.csv'\n",
      "✅ Cleaning complete. Saved to 'dataset/splits/lmsys_chat_train_part_17.csv'\n",
      "✅ Cleaning complete. Saved to 'dataset/splits/lmsys_chat_train_part_18.csv'\n",
      "✅ Cleaning complete. Saved to 'dataset/splits/lmsys_chat_train_part_19.csv'\n",
      "✅ Cleaning complete. Saved to 'dataset/splits/lmsys_chat_train_part_20.csv'\n",
      "✅ Cleaning complete. Saved to 'dataset/splits/lmsys_chat_train_part_21.csv'\n",
      "✅ Cleaning complete. Saved to 'dataset/splits/lmsys_chat_train_part_22.csv'\n",
      "✅ Cleaning complete. Saved to 'dataset/splits/lmsys_chat_train_part_23.csv'\n",
      "✅ Cleaning complete. Saved to 'dataset/splits/lmsys_chat_train_part_24.csv'\n",
      "✅ Cleaning complete. Saved to 'dataset/splits/lmsys_chat_train_part_25.csv'\n",
      "✅ Cleaning complete. Saved to 'dataset/splits/lmsys_chat_train_part_26.csv'\n",
      "✅ Cleaning complete. Saved to 'dataset/splits/lmsys_chat_train_part_27.csv'\n",
      "✅ Cleaning complete. Saved to 'dataset/splits/lmsys_chat_train_part_28.csv'\n",
      "✅ Cleaning complete. Saved to 'dataset/splits/lmsys_chat_train_part_29.csv'\n",
      "✅ Cleaning complete. Saved to 'dataset/splits/lmsys_chat_train_part_30.csv'\n",
      "✅ Cleaning complete. Saved to 'dataset/splits/lmsys_chat_train_part_31.csv'\n",
      "✅ Cleaning complete. Saved to 'dataset/splits/lmsys_chat_train_part_32.csv'\n",
      "✅ Cleaning complete. Saved to 'dataset/splits/lmsys_chat_train_part_33.csv'\n",
      "✅ Cleaning complete. Saved to 'dataset/splits/lmsys_chat_train_part_34.csv'\n"
     ]
    },
    {
     "name": "stderr",
     "output_type": "stream",
     "text": [
      "<unknown>:1: SyntaxWarning: invalid decimal literal\n"
     ]
    },
    {
     "name": "stdout",
     "output_type": "stream",
     "text": [
      "✅ Cleaning complete. Saved to 'dataset/splits/lmsys_chat_train_part_35.csv'\n",
      "✅ Cleaning complete. Saved to 'dataset/splits/lmsys_chat_train_part_36.csv'\n"
     ]
    },
    {
     "name": "stderr",
     "output_type": "stream",
     "text": [
      "<unknown>:1: SyntaxWarning: invalid decimal literal\n",
      "<unknown>:1: SyntaxWarning: invalid decimal literal\n"
     ]
    },
    {
     "name": "stdout",
     "output_type": "stream",
     "text": [
      "✅ Cleaning complete. Saved to 'dataset/splits/lmsys_chat_train_part_37.csv'\n",
      "✅ Cleaning complete. Saved to 'dataset/splits/lmsys_chat_train_part_38.csv'\n",
      "✅ Cleaning complete. Saved to 'dataset/splits/lmsys_chat_train_part_39.csv'\n",
      "✅ Cleaning complete. Saved to 'dataset/splits/lmsys_chat_train_part_40.csv'\n"
     ]
    },
    {
     "name": "stderr",
     "output_type": "stream",
     "text": [
      "<unknown>:1: SyntaxWarning: invalid decimal literal\n",
      "<unknown>:1: SyntaxWarning: invalid decimal literal\n"
     ]
    },
    {
     "name": "stdout",
     "output_type": "stream",
     "text": [
      "✅ Cleaning complete. Saved to 'dataset/splits/lmsys_chat_train_part_41.csv'\n",
      "✅ Cleaning complete. Saved to 'dataset/splits/lmsys_chat_train_part_42.csv'\n",
      "✅ Cleaning complete. Saved to 'dataset/splits/lmsys_chat_train_part_43.csv'\n",
      "✅ Cleaning complete. Saved to 'dataset/splits/lmsys_chat_train_part_44.csv'\n"
     ]
    },
    {
     "name": "stderr",
     "output_type": "stream",
     "text": [
      "<unknown>:1: SyntaxWarning: invalid decimal literal\n",
      "<unknown>:1: SyntaxWarning: invalid decimal literal\n"
     ]
    },
    {
     "name": "stdout",
     "output_type": "stream",
     "text": [
      "✅ Cleaning complete. Saved to 'dataset/splits/lmsys_chat_train_part_45.csv'\n"
     ]
    },
    {
     "name": "stderr",
     "output_type": "stream",
     "text": [
      "<unknown>:1: SyntaxWarning: invalid decimal literal\n",
      "<unknown>:1: SyntaxWarning: invalid decimal literal\n"
     ]
    },
    {
     "name": "stdout",
     "output_type": "stream",
     "text": [
      "✅ Cleaning complete. Saved to 'dataset/splits/lmsys_chat_train_part_46.csv'\n",
      "✅ Cleaning complete. Saved to 'dataset/splits/lmsys_chat_train_part_47.csv'\n",
      "✅ Cleaning complete. Saved to 'dataset/splits/lmsys_chat_train_part_48.csv'\n",
      "✅ Cleaning complete. Saved to 'dataset/splits/lmsys_chat_train_part_49.csv'\n",
      "✅ Cleaning complete. Saved to 'dataset/splits/lmsys_chat_train_part_50.csv'\n"
     ]
    },
    {
     "name": "stderr",
     "output_type": "stream",
     "text": [
      "<unknown>:1: SyntaxWarning: invalid decimal literal\n",
      "<unknown>:1: SyntaxWarning: invalid decimal literal\n",
      "<unknown>:1: SyntaxWarning: invalid decimal literal\n"
     ]
    },
    {
     "name": "stdout",
     "output_type": "stream",
     "text": [
      "✅ Cleaning complete. Saved to 'dataset/splits/lmsys_chat_train_part_51.csv'\n",
      "✅ Cleaning complete. Saved to 'dataset/splits/lmsys_chat_train_part_52.csv'\n",
      "✅ Cleaning complete. Saved to 'dataset/splits/lmsys_chat_train_part_53.csv'\n"
     ]
    },
    {
     "name": "stderr",
     "output_type": "stream",
     "text": [
      "<unknown>:1: SyntaxWarning: invalid decimal literal\n",
      "<unknown>:1: SyntaxWarning: invalid decimal literal\n"
     ]
    },
    {
     "name": "stdout",
     "output_type": "stream",
     "text": [
      "✅ Cleaning complete. Saved to 'dataset/splits/lmsys_chat_train_part_54.csv'\n",
      "✅ Cleaning complete. Saved to 'dataset/splits/lmsys_chat_train_part_55.csv'\n"
     ]
    }
   ],
   "source": [
    "import pandas as pd\n",
    "for i in range(1,56):\n",
    "    dfi=pd.read_csv(f'dataset/splits/lmsys_chat_train_part_{i}.csv')\n",
    "    dfi=clean_lmsys_dataframe(dfi, csv_path=f'dataset/splits/lmsys_chat_train_part_{i}.csv', save_json=False)\n",
    "    "
   ]
  }
 ],
 "metadata": {
  "kernelspec": {
   "display_name": "base",
   "language": "python",
   "name": "python3"
  },
  "language_info": {
   "codemirror_mode": {
    "name": "ipython",
    "version": 3
   },
   "file_extension": ".py",
   "mimetype": "text/x-python",
   "name": "python",
   "nbconvert_exporter": "python",
   "pygments_lexer": "ipython3",
   "version": "3.12.3"
  }
 },
 "nbformat": 4,
 "nbformat_minor": 5
}
